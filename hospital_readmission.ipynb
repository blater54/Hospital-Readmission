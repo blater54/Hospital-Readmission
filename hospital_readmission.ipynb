{
 "cells": [
  {
   "cell_type": "markdown",
   "metadata": {},
   "source": [
    "# Import Libaries"
   ]
  },
  {
   "cell_type": "code",
   "execution_count": 245,
   "metadata": {},
   "outputs": [],
   "source": [
    "import pandas as pd\n",
    "import numpy as np\n",
    "import matplotlib.pyplot as plt\n",
    "import seaborn as sns\n",
    "%matplotlib inline\n",
    "sns.set()"
   ]
  },
  {
   "cell_type": "markdown",
   "metadata": {},
   "source": [
    "# Read File "
   ]
  },
  {
   "cell_type": "code",
   "execution_count": 246,
   "metadata": {},
   "outputs": [],
   "source": [
    "hospital = pd.read_csv('Hospital_Readmissions_Reduction_Program.csv')"
   ]
  },
  {
   "cell_type": "code",
   "execution_count": 247,
   "metadata": {},
   "outputs": [
    {
     "data": {
      "text/html": [
       "<div>\n",
       "<style scoped>\n",
       "    .dataframe tbody tr th:only-of-type {\n",
       "        vertical-align: middle;\n",
       "    }\n",
       "\n",
       "    .dataframe tbody tr th {\n",
       "        vertical-align: top;\n",
       "    }\n",
       "\n",
       "    .dataframe thead th {\n",
       "        text-align: right;\n",
       "    }\n",
       "</style>\n",
       "<table border=\"1\" class=\"dataframe\">\n",
       "  <thead>\n",
       "    <tr style=\"text-align: right;\">\n",
       "      <th></th>\n",
       "      <th>Facility Name</th>\n",
       "      <th>Facility ID</th>\n",
       "      <th>State</th>\n",
       "      <th>Measure Name</th>\n",
       "      <th>Number of Discharges</th>\n",
       "      <th>Footnote</th>\n",
       "      <th>Excess Readmission Ratio</th>\n",
       "      <th>Predicted Readmission Rate</th>\n",
       "      <th>Expected Readmission Rate</th>\n",
       "      <th>Number of Readmissions</th>\n",
       "      <th>Start Date</th>\n",
       "      <th>End Date</th>\n",
       "    </tr>\n",
       "  </thead>\n",
       "  <tbody>\n",
       "    <tr>\n",
       "      <th>0</th>\n",
       "      <td>SOUTHEAST ALABAMA MEDICAL CENTER</td>\n",
       "      <td>10001</td>\n",
       "      <td>AL</td>\n",
       "      <td>READM-30-AMI-HRRP</td>\n",
       "      <td>742.0</td>\n",
       "      <td>NaN</td>\n",
       "      <td>1.0446</td>\n",
       "      <td>15.2935</td>\n",
       "      <td>14.6404</td>\n",
       "      <td>116</td>\n",
       "      <td>07/01/2015</td>\n",
       "      <td>06/30/2018</td>\n",
       "    </tr>\n",
       "    <tr>\n",
       "      <th>1</th>\n",
       "      <td>SOUTHEAST ALABAMA MEDICAL CENTER</td>\n",
       "      <td>10001</td>\n",
       "      <td>AL</td>\n",
       "      <td>READM-30-CABG-HRRP</td>\n",
       "      <td>279.0</td>\n",
       "      <td>NaN</td>\n",
       "      <td>1.2361</td>\n",
       "      <td>14.5943</td>\n",
       "      <td>11.8065</td>\n",
       "      <td>46</td>\n",
       "      <td>07/01/2015</td>\n",
       "      <td>06/30/2018</td>\n",
       "    </tr>\n",
       "    <tr>\n",
       "      <th>2</th>\n",
       "      <td>SOUTHEAST ALABAMA MEDICAL CENTER</td>\n",
       "      <td>10001</td>\n",
       "      <td>AL</td>\n",
       "      <td>READM-30-COPD-HRRP</td>\n",
       "      <td>495.0</td>\n",
       "      <td>NaN</td>\n",
       "      <td>1.0249</td>\n",
       "      <td>18.6162</td>\n",
       "      <td>18.1637</td>\n",
       "      <td>94</td>\n",
       "      <td>07/01/2015</td>\n",
       "      <td>06/30/2018</td>\n",
       "    </tr>\n",
       "    <tr>\n",
       "      <th>3</th>\n",
       "      <td>SOUTHEAST ALABAMA MEDICAL CENTER</td>\n",
       "      <td>10001</td>\n",
       "      <td>AL</td>\n",
       "      <td>READM-30-HF-HRRP</td>\n",
       "      <td>1114.0</td>\n",
       "      <td>NaN</td>\n",
       "      <td>1.0453</td>\n",
       "      <td>22.3772</td>\n",
       "      <td>21.4082</td>\n",
       "      <td>252</td>\n",
       "      <td>07/01/2015</td>\n",
       "      <td>06/30/2018</td>\n",
       "    </tr>\n",
       "    <tr>\n",
       "      <th>4</th>\n",
       "      <td>SOUTHEAST ALABAMA MEDICAL CENTER</td>\n",
       "      <td>10001</td>\n",
       "      <td>AL</td>\n",
       "      <td>READM-30-HIP-KNEE-HRRP</td>\n",
       "      <td>301.0</td>\n",
       "      <td>NaN</td>\n",
       "      <td>1.1787</td>\n",
       "      <td>5.5863</td>\n",
       "      <td>4.7392</td>\n",
       "      <td>20</td>\n",
       "      <td>07/01/2015</td>\n",
       "      <td>06/30/2018</td>\n",
       "    </tr>\n",
       "    <tr>\n",
       "      <th>5</th>\n",
       "      <td>SOUTHEAST ALABAMA MEDICAL CENTER</td>\n",
       "      <td>10001</td>\n",
       "      <td>AL</td>\n",
       "      <td>READM-30-PN-HRRP</td>\n",
       "      <td>605.0</td>\n",
       "      <td>NaN</td>\n",
       "      <td>1.0049</td>\n",
       "      <td>16.8059</td>\n",
       "      <td>16.7237</td>\n",
       "      <td>102</td>\n",
       "      <td>07/01/2015</td>\n",
       "      <td>06/30/2018</td>\n",
       "    </tr>\n",
       "    <tr>\n",
       "      <th>6</th>\n",
       "      <td>MARSHALL MEDICAL CENTERS SOUTH CAMPUS</td>\n",
       "      <td>10005</td>\n",
       "      <td>AL</td>\n",
       "      <td>READM-30-AMI-HRRP</td>\n",
       "      <td>NaN</td>\n",
       "      <td>NaN</td>\n",
       "      <td>0.9255</td>\n",
       "      <td>14.1024</td>\n",
       "      <td>15.2379</td>\n",
       "      <td>Too Few to Report</td>\n",
       "      <td>07/01/2015</td>\n",
       "      <td>06/30/2018</td>\n",
       "    </tr>\n",
       "  </tbody>\n",
       "</table>\n",
       "</div>"
      ],
      "text/plain": [
       "                           Facility Name  Facility ID State  \\\n",
       "0       SOUTHEAST ALABAMA MEDICAL CENTER        10001    AL   \n",
       "1       SOUTHEAST ALABAMA MEDICAL CENTER        10001    AL   \n",
       "2       SOUTHEAST ALABAMA MEDICAL CENTER        10001    AL   \n",
       "3       SOUTHEAST ALABAMA MEDICAL CENTER        10001    AL   \n",
       "4       SOUTHEAST ALABAMA MEDICAL CENTER        10001    AL   \n",
       "5       SOUTHEAST ALABAMA MEDICAL CENTER        10001    AL   \n",
       "6  MARSHALL MEDICAL CENTERS SOUTH CAMPUS        10005    AL   \n",
       "\n",
       "             Measure Name  Number of Discharges  Footnote  \\\n",
       "0       READM-30-AMI-HRRP                 742.0       NaN   \n",
       "1      READM-30-CABG-HRRP                 279.0       NaN   \n",
       "2      READM-30-COPD-HRRP                 495.0       NaN   \n",
       "3        READM-30-HF-HRRP                1114.0       NaN   \n",
       "4  READM-30-HIP-KNEE-HRRP                 301.0       NaN   \n",
       "5        READM-30-PN-HRRP                 605.0       NaN   \n",
       "6       READM-30-AMI-HRRP                   NaN       NaN   \n",
       "\n",
       "   Excess Readmission Ratio  Predicted Readmission Rate  \\\n",
       "0                    1.0446                     15.2935   \n",
       "1                    1.2361                     14.5943   \n",
       "2                    1.0249                     18.6162   \n",
       "3                    1.0453                     22.3772   \n",
       "4                    1.1787                      5.5863   \n",
       "5                    1.0049                     16.8059   \n",
       "6                    0.9255                     14.1024   \n",
       "\n",
       "   Expected Readmission Rate Number of Readmissions  Start Date    End Date  \n",
       "0                    14.6404                    116  07/01/2015  06/30/2018  \n",
       "1                    11.8065                     46  07/01/2015  06/30/2018  \n",
       "2                    18.1637                     94  07/01/2015  06/30/2018  \n",
       "3                    21.4082                    252  07/01/2015  06/30/2018  \n",
       "4                     4.7392                     20  07/01/2015  06/30/2018  \n",
       "5                    16.7237                    102  07/01/2015  06/30/2018  \n",
       "6                    15.2379      Too Few to Report  07/01/2015  06/30/2018  "
      ]
     },
     "execution_count": 247,
     "metadata": {},
     "output_type": "execute_result"
    }
   ],
   "source": [
    "hospital.head(7)"
   ]
  },
  {
   "cell_type": "code",
   "execution_count": 248,
   "metadata": {},
   "outputs": [
    {
     "data": {
      "text/html": [
       "<div>\n",
       "<style scoped>\n",
       "    .dataframe tbody tr th:only-of-type {\n",
       "        vertical-align: middle;\n",
       "    }\n",
       "\n",
       "    .dataframe tbody tr th {\n",
       "        vertical-align: top;\n",
       "    }\n",
       "\n",
       "    .dataframe thead th {\n",
       "        text-align: right;\n",
       "    }\n",
       "</style>\n",
       "<table border=\"1\" class=\"dataframe\">\n",
       "  <thead>\n",
       "    <tr style=\"text-align: right;\">\n",
       "      <th></th>\n",
       "      <th>Facility ID</th>\n",
       "      <th>Number of Discharges</th>\n",
       "      <th>Footnote</th>\n",
       "      <th>Excess Readmission Ratio</th>\n",
       "      <th>Predicted Readmission Rate</th>\n",
       "      <th>Expected Readmission Rate</th>\n",
       "    </tr>\n",
       "  </thead>\n",
       "  <tbody>\n",
       "    <tr>\n",
       "      <th>count</th>\n",
       "      <td>19344.000000</td>\n",
       "      <td>11440.000000</td>\n",
       "      <td>5274.000000</td>\n",
       "      <td>14071.000000</td>\n",
       "      <td>14071.000000</td>\n",
       "      <td>14071.000000</td>\n",
       "    </tr>\n",
       "    <tr>\n",
       "      <th>mean</th>\n",
       "      <td>262195.596154</td>\n",
       "      <td>393.304808</td>\n",
       "      <td>3.635950</td>\n",
       "      <td>1.002507</td>\n",
       "      <td>15.383346</td>\n",
       "      <td>15.337661</td>\n",
       "    </tr>\n",
       "    <tr>\n",
       "      <th>std</th>\n",
       "      <td>162257.586241</td>\n",
       "      <td>363.203205</td>\n",
       "      <td>1.981472</td>\n",
       "      <td>0.089052</td>\n",
       "      <td>5.959672</td>\n",
       "      <td>5.778370</td>\n",
       "    </tr>\n",
       "    <tr>\n",
       "      <th>min</th>\n",
       "      <td>10001.000000</td>\n",
       "      <td>0.000000</td>\n",
       "      <td>1.000000</td>\n",
       "      <td>0.623000</td>\n",
       "      <td>2.199400</td>\n",
       "      <td>2.799700</td>\n",
       "    </tr>\n",
       "    <tr>\n",
       "      <th>25%</th>\n",
       "      <td>110110.500000</td>\n",
       "      <td>158.000000</td>\n",
       "      <td>1.000000</td>\n",
       "      <td>0.950850</td>\n",
       "      <td>13.285200</td>\n",
       "      <td>13.540200</td>\n",
       "    </tr>\n",
       "    <tr>\n",
       "      <th>50%</th>\n",
       "      <td>250089.000000</td>\n",
       "      <td>290.000000</td>\n",
       "      <td>5.000000</td>\n",
       "      <td>0.997800</td>\n",
       "      <td>16.712700</td>\n",
       "      <td>16.639300</td>\n",
       "    </tr>\n",
       "    <tr>\n",
       "      <th>75%</th>\n",
       "      <td>390117.500000</td>\n",
       "      <td>508.000000</td>\n",
       "      <td>5.000000</td>\n",
       "      <td>1.049400</td>\n",
       "      <td>19.559800</td>\n",
       "      <td>19.647700</td>\n",
       "    </tr>\n",
       "    <tr>\n",
       "      <th>max</th>\n",
       "      <td>670128.000000</td>\n",
       "      <td>9356.000000</td>\n",
       "      <td>23.000000</td>\n",
       "      <td>2.183200</td>\n",
       "      <td>30.257900</td>\n",
       "      <td>25.697100</td>\n",
       "    </tr>\n",
       "  </tbody>\n",
       "</table>\n",
       "</div>"
      ],
      "text/plain": [
       "         Facility ID  Number of Discharges     Footnote  \\\n",
       "count   19344.000000          11440.000000  5274.000000   \n",
       "mean   262195.596154            393.304808     3.635950   \n",
       "std    162257.586241            363.203205     1.981472   \n",
       "min     10001.000000              0.000000     1.000000   \n",
       "25%    110110.500000            158.000000     1.000000   \n",
       "50%    250089.000000            290.000000     5.000000   \n",
       "75%    390117.500000            508.000000     5.000000   \n",
       "max    670128.000000           9356.000000    23.000000   \n",
       "\n",
       "       Excess Readmission Ratio  Predicted Readmission Rate  \\\n",
       "count              14071.000000                14071.000000   \n",
       "mean                   1.002507                   15.383346   \n",
       "std                    0.089052                    5.959672   \n",
       "min                    0.623000                    2.199400   \n",
       "25%                    0.950850                   13.285200   \n",
       "50%                    0.997800                   16.712700   \n",
       "75%                    1.049400                   19.559800   \n",
       "max                    2.183200                   30.257900   \n",
       "\n",
       "       Expected Readmission Rate  \n",
       "count               14071.000000  \n",
       "mean                   15.337661  \n",
       "std                     5.778370  \n",
       "min                     2.799700  \n",
       "25%                    13.540200  \n",
       "50%                    16.639300  \n",
       "75%                    19.647700  \n",
       "max                    25.697100  "
      ]
     },
     "execution_count": 248,
     "metadata": {},
     "output_type": "execute_result"
    }
   ],
   "source": [
    "hospital.describe()"
   ]
  },
  {
   "cell_type": "markdown",
   "metadata": {},
   "source": [
    "# Check For Missing Values"
   ]
  },
  {
   "cell_type": "code",
   "execution_count": 249,
   "metadata": {},
   "outputs": [
    {
     "name": "stdout",
     "output_type": "stream",
     "text": [
      "<class 'pandas.core.frame.DataFrame'>\n",
      "RangeIndex: 19344 entries, 0 to 19343\n",
      "Data columns (total 12 columns):\n",
      " #   Column                      Non-Null Count  Dtype  \n",
      "---  ------                      --------------  -----  \n",
      " 0   Facility Name               19344 non-null  object \n",
      " 1   Facility ID                 19344 non-null  int64  \n",
      " 2   State                       19344 non-null  object \n",
      " 3   Measure Name                19344 non-null  object \n",
      " 4   Number of Discharges        11440 non-null  float64\n",
      " 5   Footnote                    5274 non-null   float64\n",
      " 6   Excess Readmission Ratio    14071 non-null  float64\n",
      " 7   Predicted Readmission Rate  14071 non-null  float64\n",
      " 8   Expected Readmission Rate   14071 non-null  float64\n",
      " 9   Number of Readmissions      14071 non-null  object \n",
      " 10  Start Date                  19344 non-null  object \n",
      " 11  End Date                    19344 non-null  object \n",
      "dtypes: float64(5), int64(1), object(6)\n",
      "memory usage: 1.8+ MB\n"
     ]
    }
   ],
   "source": [
    "hospital.info()"
   ]
  },
  {
   "cell_type": "code",
   "execution_count": 250,
   "metadata": {},
   "outputs": [
    {
     "data": {
      "text/plain": [
       "Facility Name                     0\n",
       "Facility ID                       0\n",
       "State                             0\n",
       "Measure Name                      0\n",
       "Number of Discharges           7904\n",
       "Footnote                      14070\n",
       "Excess Readmission Ratio       5273\n",
       "Predicted Readmission Rate     5273\n",
       "Expected Readmission Rate      5273\n",
       "Number of Readmissions         5273\n",
       "Start Date                        0\n",
       "End Date                          0\n",
       "dtype: int64"
      ]
     },
     "execution_count": 250,
     "metadata": {},
     "output_type": "execute_result"
    }
   ],
   "source": [
    "hospital.isnull().sum()"
   ]
  },
  {
   "cell_type": "markdown",
   "metadata": {},
   "source": [
    "One of the best way to check for missing values is to create a heatmap. This lets me determine if I should drop the column entirely or find the average instead"
   ]
  },
  {
   "cell_type": "code",
   "execution_count": 251,
   "metadata": {},
   "outputs": [
    {
     "data": {
      "text/plain": [
       "<matplotlib.axes._subplots.AxesSubplot at 0x1f8e8f41688>"
      ]
     },
     "execution_count": 251,
     "metadata": {},
     "output_type": "execute_result"
    },
    {
     "data": {
      "image/png": "[encoded data removed]",
      "text/plain": [
       "<Figure size 432x288 with 2 Axes>"
      ]
     },
     "metadata": {},
     "output_type": "display_data"
    }
   ],
   "source": [
    "sns.heatmap(hospital.isnull(),yticklabels=False, cmap = 'viridis')"
   ]
  },
  {
   "cell_type": "markdown",
   "metadata": {},
   "source": [
    "By looking at the heatmap, I can tell that \"Footnote\" has too many missing values to become relevant in this project so I am going to drop it. In addition, 'Number of Discharges', 'Excess Readmission Ratio','Predicted Readmission Rate','Expected Readmission Rate', and 'Number of Readmissions' can be filled by applying the mean."
   ]
  },
  {
   "cell_type": "markdown",
   "metadata": {},
   "source": [
    "# Data Cleaning"
   ]
  },
  {
   "cell_type": "code",
   "execution_count": 252,
   "metadata": {},
   "outputs": [
    {
     "data": {
      "text/plain": [
       "Index(['Facility Name', 'Facility ID', 'State', 'Measure Name',\n",
       "       'Number of Discharges', 'Footnote', 'Excess Readmission Ratio',\n",
       "       'Predicted Readmission Rate', 'Expected Readmission Rate',\n",
       "       'Number of Readmissions', 'Start Date', 'End Date'],\n",
       "      dtype='object')"
      ]
     },
     "execution_count": 252,
     "metadata": {},
     "output_type": "execute_result"
    }
   ],
   "source": [
    "hospital.columns"
   ]
  },
  {
   "cell_type": "markdown",
   "metadata": {},
   "source": [
    "#Dropping Variables that are not applicable"
   ]
  },
  {
   "cell_type": "code",
   "execution_count": 253,
   "metadata": {},
   "outputs": [],
   "source": [
    "hospital.drop('Footnote',axis =1, inplace = True)"
   ]
  },
  {
   "cell_type": "code",
   "execution_count": 254,
   "metadata": {},
   "outputs": [
    {
     "data": {
      "text/plain": [
       "393.3048076923077"
      ]
     },
     "execution_count": 254,
     "metadata": {},
     "output_type": "execute_result"
    }
   ],
   "source": [
    "hospital['Number of Discharges'].mean()"
   ]
  },
  {
   "cell_type": "code",
   "execution_count": 255,
   "metadata": {},
   "outputs": [
    {
     "data": {
      "text/plain": [
       "numpy.float64"
      ]
     },
     "execution_count": 255,
     "metadata": {},
     "output_type": "execute_result"
    }
   ],
   "source": [
    "type(hospital['Number of Discharges'][6])"
   ]
  },
  {
   "cell_type": "markdown",
   "metadata": {},
   "source": [
    "By using fillna, I am able to replace all missing values with the mean of each features."
   ]
  },
  {
   "cell_type": "code",
   "execution_count": 256,
   "metadata": {},
   "outputs": [],
   "source": [
    "hospital.fillna(hospital.mean(),inplace = True)"
   ]
  },
  {
   "cell_type": "code",
   "execution_count": 257,
   "metadata": {},
   "outputs": [
    {
     "data": {
      "text/plain": [
       "<matplotlib.axes._subplots.AxesSubplot at 0x1f8e8ffe048>"
      ]
     },
     "execution_count": 257,
     "metadata": {},
     "output_type": "execute_result"
    },
    {
     "data": {
      "image/png": "[encoded data removed]",
      "text/plain": [
       "<Figure size 432x288 with 2 Axes>"
      ]
     },
     "metadata": {},
     "output_type": "display_data"
    }
   ],
   "source": [
    "sns.heatmap(hospital.isnull(),yticklabels=False, cmap = 'viridis')"
   ]
  },
  {
   "cell_type": "code",
   "execution_count": 258,
   "metadata": {},
   "outputs": [
    {
     "data": {
      "text/html": [
       "<div>\n",
       "<style scoped>\n",
       "    .dataframe tbody tr th:only-of-type {\n",
       "        vertical-align: middle;\n",
       "    }\n",
       "\n",
       "    .dataframe tbody tr th {\n",
       "        vertical-align: top;\n",
       "    }\n",
       "\n",
       "    .dataframe thead th {\n",
       "        text-align: right;\n",
       "    }\n",
       "</style>\n",
       "<table border=\"1\" class=\"dataframe\">\n",
       "  <thead>\n",
       "    <tr style=\"text-align: right;\">\n",
       "      <th></th>\n",
       "      <th>Facility Name</th>\n",
       "      <th>Facility ID</th>\n",
       "      <th>State</th>\n",
       "      <th>Measure Name</th>\n",
       "      <th>Number of Discharges</th>\n",
       "      <th>Excess Readmission Ratio</th>\n",
       "      <th>Predicted Readmission Rate</th>\n",
       "      <th>Expected Readmission Rate</th>\n",
       "      <th>Number of Readmissions</th>\n",
       "      <th>Start Date</th>\n",
       "      <th>End Date</th>\n",
       "    </tr>\n",
       "  </thead>\n",
       "  <tbody>\n",
       "    <tr>\n",
       "      <th>0</th>\n",
       "      <td>SOUTHEAST ALABAMA MEDICAL CENTER</td>\n",
       "      <td>10001</td>\n",
       "      <td>AL</td>\n",
       "      <td>READM-30-AMI-HRRP</td>\n",
       "      <td>742.000000</td>\n",
       "      <td>1.044600</td>\n",
       "      <td>15.293500</td>\n",
       "      <td>14.640400</td>\n",
       "      <td>116</td>\n",
       "      <td>07/01/2015</td>\n",
       "      <td>06/30/2018</td>\n",
       "    </tr>\n",
       "    <tr>\n",
       "      <th>1</th>\n",
       "      <td>SOUTHEAST ALABAMA MEDICAL CENTER</td>\n",
       "      <td>10001</td>\n",
       "      <td>AL</td>\n",
       "      <td>READM-30-CABG-HRRP</td>\n",
       "      <td>279.000000</td>\n",
       "      <td>1.236100</td>\n",
       "      <td>14.594300</td>\n",
       "      <td>11.806500</td>\n",
       "      <td>46</td>\n",
       "      <td>07/01/2015</td>\n",
       "      <td>06/30/2018</td>\n",
       "    </tr>\n",
       "    <tr>\n",
       "      <th>2</th>\n",
       "      <td>SOUTHEAST ALABAMA MEDICAL CENTER</td>\n",
       "      <td>10001</td>\n",
       "      <td>AL</td>\n",
       "      <td>READM-30-COPD-HRRP</td>\n",
       "      <td>495.000000</td>\n",
       "      <td>1.024900</td>\n",
       "      <td>18.616200</td>\n",
       "      <td>18.163700</td>\n",
       "      <td>94</td>\n",
       "      <td>07/01/2015</td>\n",
       "      <td>06/30/2018</td>\n",
       "    </tr>\n",
       "    <tr>\n",
       "      <th>3</th>\n",
       "      <td>SOUTHEAST ALABAMA MEDICAL CENTER</td>\n",
       "      <td>10001</td>\n",
       "      <td>AL</td>\n",
       "      <td>READM-30-HF-HRRP</td>\n",
       "      <td>1114.000000</td>\n",
       "      <td>1.045300</td>\n",
       "      <td>22.377200</td>\n",
       "      <td>21.408200</td>\n",
       "      <td>252</td>\n",
       "      <td>07/01/2015</td>\n",
       "      <td>06/30/2018</td>\n",
       "    </tr>\n",
       "    <tr>\n",
       "      <th>4</th>\n",
       "      <td>SOUTHEAST ALABAMA MEDICAL CENTER</td>\n",
       "      <td>10001</td>\n",
       "      <td>AL</td>\n",
       "      <td>READM-30-HIP-KNEE-HRRP</td>\n",
       "      <td>301.000000</td>\n",
       "      <td>1.178700</td>\n",
       "      <td>5.586300</td>\n",
       "      <td>4.739200</td>\n",
       "      <td>20</td>\n",
       "      <td>07/01/2015</td>\n",
       "      <td>06/30/2018</td>\n",
       "    </tr>\n",
       "    <tr>\n",
       "      <th>5</th>\n",
       "      <td>SOUTHEAST ALABAMA MEDICAL CENTER</td>\n",
       "      <td>10001</td>\n",
       "      <td>AL</td>\n",
       "      <td>READM-30-PN-HRRP</td>\n",
       "      <td>605.000000</td>\n",
       "      <td>1.004900</td>\n",
       "      <td>16.805900</td>\n",
       "      <td>16.723700</td>\n",
       "      <td>102</td>\n",
       "      <td>07/01/2015</td>\n",
       "      <td>06/30/2018</td>\n",
       "    </tr>\n",
       "    <tr>\n",
       "      <th>6</th>\n",
       "      <td>MARSHALL MEDICAL CENTERS SOUTH CAMPUS</td>\n",
       "      <td>10005</td>\n",
       "      <td>AL</td>\n",
       "      <td>READM-30-AMI-HRRP</td>\n",
       "      <td>393.304808</td>\n",
       "      <td>0.925500</td>\n",
       "      <td>14.102400</td>\n",
       "      <td>15.237900</td>\n",
       "      <td>Too Few to Report</td>\n",
       "      <td>07/01/2015</td>\n",
       "      <td>06/30/2018</td>\n",
       "    </tr>\n",
       "    <tr>\n",
       "      <th>7</th>\n",
       "      <td>MARSHALL MEDICAL CENTERS SOUTH CAMPUS</td>\n",
       "      <td>10005</td>\n",
       "      <td>AL</td>\n",
       "      <td>READM-30-CABG-HRRP</td>\n",
       "      <td>393.304808</td>\n",
       "      <td>1.002507</td>\n",
       "      <td>15.383346</td>\n",
       "      <td>15.337661</td>\n",
       "      <td>NaN</td>\n",
       "      <td>07/01/2015</td>\n",
       "      <td>06/30/2018</td>\n",
       "    </tr>\n",
       "  </tbody>\n",
       "</table>\n",
       "</div>"
      ],
      "text/plain": [
       "                           Facility Name  Facility ID State  \\\n",
       "0       SOUTHEAST ALABAMA MEDICAL CENTER        10001    AL   \n",
       "1       SOUTHEAST ALABAMA MEDICAL CENTER        10001    AL   \n",
       "2       SOUTHEAST ALABAMA MEDICAL CENTER        10001    AL   \n",
       "3       SOUTHEAST ALABAMA MEDICAL CENTER        10001    AL   \n",
       "4       SOUTHEAST ALABAMA MEDICAL CENTER        10001    AL   \n",
       "5       SOUTHEAST ALABAMA MEDICAL CENTER        10001    AL   \n",
       "6  MARSHALL MEDICAL CENTERS SOUTH CAMPUS        10005    AL   \n",
       "7  MARSHALL MEDICAL CENTERS SOUTH CAMPUS        10005    AL   \n",
       "\n",
       "             Measure Name  Number of Discharges  Excess Readmission Ratio  \\\n",
       "0       READM-30-AMI-HRRP            742.000000                  1.044600   \n",
       "1      READM-30-CABG-HRRP            279.000000                  1.236100   \n",
       "2      READM-30-COPD-HRRP            495.000000                  1.024900   \n",
       "3        READM-30-HF-HRRP           1114.000000                  1.045300   \n",
       "4  READM-30-HIP-KNEE-HRRP            301.000000                  1.178700   \n",
       "5        READM-30-PN-HRRP            605.000000                  1.004900   \n",
       "6       READM-30-AMI-HRRP            393.304808                  0.925500   \n",
       "7      READM-30-CABG-HRRP            393.304808                  1.002507   \n",
       "\n",
       "   Predicted Readmission Rate  Expected Readmission Rate  \\\n",
       "0                   15.293500                  14.640400   \n",
       "1                   14.594300                  11.806500   \n",
       "2                   18.616200                  18.163700   \n",
       "3                   22.377200                  21.408200   \n",
       "4                    5.586300                   4.739200   \n",
       "5                   16.805900                  16.723700   \n",
       "6                   14.102400                  15.237900   \n",
       "7                   15.383346                  15.337661   \n",
       "\n",
       "  Number of Readmissions  Start Date    End Date  \n",
       "0                    116  07/01/2015  06/30/2018  \n",
       "1                     46  07/01/2015  06/30/2018  \n",
       "2                     94  07/01/2015  06/30/2018  \n",
       "3                    252  07/01/2015  06/30/2018  \n",
       "4                     20  07/01/2015  06/30/2018  \n",
       "5                    102  07/01/2015  06/30/2018  \n",
       "6      Too Few to Report  07/01/2015  06/30/2018  \n",
       "7                    NaN  07/01/2015  06/30/2018  "
      ]
     },
     "execution_count": 258,
     "metadata": {},
     "output_type": "execute_result"
    }
   ],
   "source": [
    "hospital.head(8)"
   ]
  },
  {
   "cell_type": "markdown",
   "metadata": {},
   "source": [
    "It seems most of the data were filled with the average except for 'Number of Readmissions'. To figure out the case, lets observe the values in 'Number of Readmissions'"
   ]
  },
  {
   "cell_type": "markdown",
   "metadata": {},
   "source": [
    "By looking at vlaue counts, there is a text that read \"Too Few to Report\", which is a string function. In order to fix this, I am going to convert 'Too few to Report' to 0."
   ]
  },
  {
   "cell_type": "code",
   "execution_count": 259,
   "metadata": {},
   "outputs": [],
   "source": [
    "hospital['Number of Readmissions'].replace('Too Few to Report', '0' ,inplace = True) "
   ]
  },
  {
   "cell_type": "markdown",
   "metadata": {},
   "source": [
    "Trying to find the mean for 'Number of Readmission' was challenging because it contains differnt data types. In order to fix this, I am going to convert all of the data into float."
   ]
  },
  {
   "cell_type": "code",
   "execution_count": 260,
   "metadata": {},
   "outputs": [
    {
     "data": {
      "text/plain": [
       "str"
      ]
     },
     "execution_count": 260,
     "metadata": {},
     "output_type": "execute_result"
    }
   ],
   "source": [
    "type(hospital['Number of Readmissions'][3])"
   ]
  },
  {
   "cell_type": "code",
   "execution_count": 261,
   "metadata": {},
   "outputs": [],
   "source": [
    "hospital['Number of Readmissions'] = hospital['Number of Readmissions'].astype(float)"
   ]
  },
  {
   "cell_type": "markdown",
   "metadata": {},
   "source": [
    "Now I am going to find the mean and replace all missing values with the mean"
   ]
  },
  {
   "cell_type": "code",
   "execution_count": 262,
   "metadata": {},
   "outputs": [
    {
     "data": {
      "text/plain": [
       "50.47423779404449"
      ]
     },
     "execution_count": 262,
     "metadata": {},
     "output_type": "execute_result"
    }
   ],
   "source": [
    "hospital['Number of Readmissions'].mean()"
   ]
  },
  {
   "cell_type": "code",
   "execution_count": 263,
   "metadata": {},
   "outputs": [],
   "source": [
    "hospital['Number of Readmissions'].fillna(hospital['Number of Readmissions'].mean(), inplace = True)"
   ]
  },
  {
   "cell_type": "code",
   "execution_count": 264,
   "metadata": {},
   "outputs": [
    {
     "data": {
      "text/plain": [
       "<matplotlib.axes._subplots.AxesSubplot at 0x1f8e9049248>"
      ]
     },
     "execution_count": 264,
     "metadata": {},
     "output_type": "execute_result"
    },
    {
     "data": {
      "image/png": "[encoded data removed]",
      "text/plain": [
       "<Figure size 432x288 with 2 Axes>"
      ]
     },
     "metadata": {},
     "output_type": "display_data"
    }
   ],
   "source": [
    "sns.heatmap(hospital.isnull(),yticklabels=False,cmap = 'viridis')"
   ]
  },
  {
   "cell_type": "markdown",
   "metadata": {},
   "source": [
    "Now that Data Cleaning is complete, Lets do some Data Visualization"
   ]
  },
  {
   "cell_type": "markdown",
   "metadata": {},
   "source": [
    "# Data Visualization"
   ]
  },
  {
   "cell_type": "code",
   "execution_count": 265,
   "metadata": {},
   "outputs": [
    {
     "data": {
      "text/plain": [
       "Index(['Facility Name', 'Facility ID', 'State', 'Measure Name',\n",
       "       'Number of Discharges', 'Excess Readmission Ratio',\n",
       "       'Predicted Readmission Rate', 'Expected Readmission Rate',\n",
       "       'Number of Readmissions', 'Start Date', 'End Date'],\n",
       "      dtype='object')"
      ]
     },
     "execution_count": 265,
     "metadata": {},
     "output_type": "execute_result"
    }
   ],
   "source": [
    "hospital.columns"
   ]
  },
  {
   "cell_type": "markdown",
   "metadata": {},
   "source": [
    "I wanted to create a plot that see a correlation between exptected Readmission Rate and Predicted Readmission Rate. By looking at the correlation, we can measure the accuracy of the model"
   ]
  },
  {
   "cell_type": "code",
   "execution_count": 266,
   "metadata": {},
   "outputs": [
    {
     "data": {
      "text/plain": [
       "Text(0.5, 1, 'Predicted Readmission Rate vs Expected Readmission Rate')"
      ]
     },
     "execution_count": 266,
     "metadata": {},
     "output_type": "execute_result"
    },
    {
     "data": {
      "image/png": "[encoded data removed]",
      "text/plain": [
       "<Figure size 360x360 with 1 Axes>"
      ]
     },
     "metadata": {},
     "output_type": "display_data"
    }
   ],
   "source": [
    "sns.lmplot('Expected Readmission Rate','Predicted Readmission Rate', data = hospital)\n",
    "plt.title('Predicted Readmission Rate vs Expected Readmission Rate',size = 20)"
   ]
  },
  {
   "cell_type": "code",
   "execution_count": 267,
   "metadata": {},
   "outputs": [
    {
     "data": {
      "text/plain": [
       "Text(0.5, 1, 'Expected Readmission Rate vs Number of Discharges')"
      ]
     },
     "execution_count": 267,
     "metadata": {},
     "output_type": "execute_result"
    },
    {
     "data": {
      "image/png": "[encoded data removed]",
      "text/plain": [
       "<Figure size 432x432 with 3 Axes>"
      ]
     },
     "metadata": {},
     "output_type": "display_data"
    }
   ],
   "source": [
    "sns.jointplot(x= hospital['Number of Discharges'],y=hospital['Expected Readmission Rate'])\n",
    "plt.title('Expected Readmission Rate vs Number of Discharges',size = 20)"
   ]
  },
  {
   "cell_type": "code",
   "execution_count": 268,
   "metadata": {},
   "outputs": [
    {
     "data": {
      "text/plain": [
       "Text(0.5, 1, 'Expected Readmission Rate vs Number of Readmission')"
      ]
     },
     "execution_count": 268,
     "metadata": {},
     "output_type": "execute_result"
    },
    {
     "data": {
      "image/png": "[encoded data removed]",
      "text/plain": [
       "<Figure size 432x432 with 3 Axes>"
      ]
     },
     "metadata": {},
     "output_type": "display_data"
    }
   ],
   "source": [
    "sns.jointplot(x= hospital['Number of Readmissions'],y=hospital['Expected Readmission Rate'])\n",
    "plt.title('Expected Readmission Rate vs Number of Readmission',size = 20)"
   ]
  },
  {
   "cell_type": "markdown",
   "metadata": {},
   "source": [
    "# Scale Data"
   ]
  },
  {
   "cell_type": "markdown",
   "metadata": {},
   "source": [
    "after looking at our data, I am going to scale the dataset. Scaling data is very important because it helps normalize the data in a particular range."
   ]
  },
  {
   "cell_type": "code",
   "execution_count": 269,
   "metadata": {},
   "outputs": [
    {
     "data": {
      "text/plain": [
       "Index(['Facility Name', 'Facility ID', 'State', 'Measure Name',\n",
       "       'Number of Discharges', 'Excess Readmission Ratio',\n",
       "       'Predicted Readmission Rate', 'Expected Readmission Rate',\n",
       "       'Number of Readmissions', 'Start Date', 'End Date'],\n",
       "      dtype='object')"
      ]
     },
     "execution_count": 269,
     "metadata": {},
     "output_type": "execute_result"
    }
   ],
   "source": [
    "hospital.columns"
   ]
  },
  {
   "cell_type": "markdown",
   "metadata": {},
   "source": [
    "Time to select my dependentand independent variables."
   ]
  },
  {
   "cell_type": "code",
   "execution_count": 270,
   "metadata": {},
   "outputs": [],
   "source": [
    "x = hospital[['Number of Discharges','Excess Readmission Ratio','Number of Readmissions']]\n",
    "y = hospital['Expected Readmission Rate']"
   ]
  },
  {
   "cell_type": "code",
   "execution_count": 271,
   "metadata": {},
   "outputs": [],
   "source": [
    "from sklearn.preprocessing import StandardScaler"
   ]
  },
  {
   "cell_type": "code",
   "execution_count": 272,
   "metadata": {},
   "outputs": [],
   "source": [
    "scale = StandardScaler()"
   ]
  },
  {
   "cell_type": "code",
   "execution_count": 273,
   "metadata": {},
   "outputs": [
    {
     "data": {
      "text/plain": [
       "array([[ 1.24846220e+00,  5.54234014e-01,  1.27677786e+00],\n",
       "       [-4.09254946e-01,  3.07568717e+00, -8.71810959e-02],\n",
       "       [ 3.64107698e-01,  2.94846927e-01,  8.48105046e-01],\n",
       "       ...,\n",
       "       [-2.03521188e-16, -2.33890368e-14,  1.38450161e-16],\n",
       "       [-2.03521188e-16, -2.33890368e-14,  1.38450161e-16],\n",
       "       [-2.03521188e-16, -2.33890368e-14,  1.38450161e-16]])"
      ]
     },
     "execution_count": 273,
     "metadata": {},
     "output_type": "execute_result"
    }
   ],
   "source": [
    "scale.fit_transform(x)"
   ]
  },
  {
   "cell_type": "markdown",
   "metadata": {},
   "source": [
    "# Train Test Split"
   ]
  },
  {
   "cell_type": "markdown",
   "metadata": {},
   "source": [
    "I am going to determine the type of machine learning algorithm needed for this. Since I am going to predict readmission rate and compare it with the given readmission rate, I will use being with linear regression and try to improve it."
   ]
  },
  {
   "cell_type": "code",
   "execution_count": 274,
   "metadata": {},
   "outputs": [],
   "source": [
    "from sklearn.model_selection import train_test_split"
   ]
  },
  {
   "cell_type": "code",
   "execution_count": 275,
   "metadata": {},
   "outputs": [],
   "source": [
    "x_train,x_test, y_train, y_test = train_test_split(x,y,test_size=.2, random_state = 101)"
   ]
  },
  {
   "cell_type": "markdown",
   "metadata": {},
   "source": [
    "# Linear Regression "
   ]
  },
  {
   "cell_type": "markdown",
   "metadata": {},
   "source": [
    "Since we are trying to predict the progression of readmission rate, I will use Linear Regression and then compare it with different linear regression models"
   ]
  },
  {
   "cell_type": "code",
   "execution_count": 276,
   "metadata": {},
   "outputs": [],
   "source": [
    "from sklearn.linear_model import LinearRegression"
   ]
  },
  {
   "cell_type": "code",
   "execution_count": 277,
   "metadata": {},
   "outputs": [],
   "source": [
    "LR = LinearRegression()"
   ]
  },
  {
   "cell_type": "markdown",
   "metadata": {},
   "source": [
    "Fittng the model in our regression "
   ]
  },
  {
   "cell_type": "code",
   "execution_count": 278,
   "metadata": {},
   "outputs": [
    {
     "data": {
      "text/plain": [
       "LinearRegression(copy_X=True, fit_intercept=True, n_jobs=None, normalize=False)"
      ]
     },
     "execution_count": 278,
     "metadata": {},
     "output_type": "execute_result"
    }
   ],
   "source": [
    "LR.fit(x_train,y_train)"
   ]
  },
  {
   "cell_type": "markdown",
   "metadata": {},
   "source": [
    "using the model to find the coef and putting it into a dataframe"
   ]
  },
  {
   "cell_type": "code",
   "execution_count": 279,
   "metadata": {},
   "outputs": [
    {
     "name": "stdout",
     "output_type": "stream",
     "text": [
      "29.817563996362967\n"
     ]
    }
   ],
   "source": [
    "print(LR.intercept_)"
   ]
  },
  {
   "cell_type": "code",
   "execution_count": 280,
   "metadata": {},
   "outputs": [
    {
     "data": {
      "text/plain": [
       "array([ -0.01433401, -13.59309106,   0.09465686])"
      ]
     },
     "execution_count": 280,
     "metadata": {},
     "output_type": "execute_result"
    }
   ],
   "source": [
    "LR.coef_"
   ]
  },
  {
   "cell_type": "code",
   "execution_count": 281,
   "metadata": {},
   "outputs": [],
   "source": [
    "cdf = pd.DataFrame(LR.coef_,x.columns,columns=['Coeff'])"
   ]
  },
  {
   "cell_type": "code",
   "execution_count": 282,
   "metadata": {},
   "outputs": [
    {
     "data": {
      "text/html": [
       "<div>\n",
       "<style scoped>\n",
       "    .dataframe tbody tr th:only-of-type {\n",
       "        vertical-align: middle;\n",
       "    }\n",
       "\n",
       "    .dataframe tbody tr th {\n",
       "        vertical-align: top;\n",
       "    }\n",
       "\n",
       "    .dataframe thead th {\n",
       "        text-align: right;\n",
       "    }\n",
       "</style>\n",
       "<table border=\"1\" class=\"dataframe\">\n",
       "  <thead>\n",
       "    <tr style=\"text-align: right;\">\n",
       "      <th></th>\n",
       "      <th>Coeff</th>\n",
       "    </tr>\n",
       "  </thead>\n",
       "  <tbody>\n",
       "    <tr>\n",
       "      <th>Number of Discharges</th>\n",
       "      <td>-0.014334</td>\n",
       "    </tr>\n",
       "    <tr>\n",
       "      <th>Excess Readmission Ratio</th>\n",
       "      <td>-13.593091</td>\n",
       "    </tr>\n",
       "    <tr>\n",
       "      <th>Number of Readmissions</th>\n",
       "      <td>0.094657</td>\n",
       "    </tr>\n",
       "  </tbody>\n",
       "</table>\n",
       "</div>"
      ],
      "text/plain": [
       "                              Coeff\n",
       "Number of Discharges      -0.014334\n",
       "Excess Readmission Ratio -13.593091\n",
       "Number of Readmissions     0.094657"
      ]
     },
     "execution_count": 282,
     "metadata": {},
     "output_type": "execute_result"
    }
   ],
   "source": [
    "cdf.head()"
   ]
  },
  {
   "cell_type": "markdown",
   "metadata": {},
   "source": [
    "# Predictions"
   ]
  },
  {
   "cell_type": "code",
   "execution_count": 283,
   "metadata": {},
   "outputs": [],
   "source": [
    "pred = LR.predict(x_test)"
   ]
  },
  {
   "cell_type": "markdown",
   "metadata": {},
   "source": [
    "plotting a residual plot"
   ]
  },
  {
   "cell_type": "code",
   "execution_count": 284,
   "metadata": {},
   "outputs": [
    {
     "data": {
      "text/plain": [
       "Text(0.5, 1.0, 'Residual Plot')"
      ]
     },
     "execution_count": 284,
     "metadata": {},
     "output_type": "execute_result"
    },
    {
     "data": {
      "image/png": "[encoded data removed]",
      "text/plain": [
       "<Figure size 432x288 with 1 Axes>"
      ]
     },
     "metadata": {},
     "output_type": "display_data"
    }
   ],
   "source": [
    "sns.distplot(y_test - pred)\n",
    "plt.title('Residual Plot',size =20)"
   ]
  },
  {
   "cell_type": "markdown",
   "metadata": {},
   "source": [
    "# Evaluation Metrics"
   ]
  },
  {
   "cell_type": "code",
   "execution_count": 285,
   "metadata": {},
   "outputs": [],
   "source": [
    "from sklearn.metrics import mean_absolute_error,mean_squared_error"
   ]
  },
  {
   "cell_type": "code",
   "execution_count": 286,
   "metadata": {},
   "outputs": [
    {
     "name": "stdout",
     "output_type": "stream",
     "text": [
      "MAE: 2.2190802720499736\n",
      "MSE: 11.787763409640355\n",
      "RMSE: 3.433331240885498\n"
     ]
    }
   ],
   "source": [
    "print('MAE:', mean_absolute_error(y_test,pred))\n",
    "print('MSE:', mean_squared_error(y_test,pred))\n",
    "print('RMSE:', np.sqrt(mean_squared_error(y_test,pred)))"
   ]
  },
  {
   "cell_type": "markdown",
   "metadata": {},
   "source": [
    "Lets see if we can improve the score by comparing it to Regression Tree"
   ]
  },
  {
   "cell_type": "markdown",
   "metadata": {},
   "source": [
    "# Random Forest "
   ]
  },
  {
   "cell_type": "markdown",
   "metadata": {},
   "source": [
    "Importing the model and fitting the model"
   ]
  },
  {
   "cell_type": "code",
   "execution_count": 287,
   "metadata": {},
   "outputs": [],
   "source": [
    "from sklearn.ensemble import RandomForestRegressor"
   ]
  },
  {
   "cell_type": "markdown",
   "metadata": {},
   "source": [
    "choosing an estimator of 500 for random forest"
   ]
  },
  {
   "cell_type": "code",
   "execution_count": 288,
   "metadata": {},
   "outputs": [],
   "source": [
    "rf = RandomForestRegressor(n_estimators=1000)"
   ]
  },
  {
   "cell_type": "code",
   "execution_count": 289,
   "metadata": {},
   "outputs": [
    {
     "data": {
      "text/plain": [
       "RandomForestRegressor(bootstrap=True, ccp_alpha=0.0, criterion='mse',\n",
       "                      max_depth=None, max_features='auto', max_leaf_nodes=None,\n",
       "                      max_samples=None, min_impurity_decrease=0.0,\n",
       "                      min_impurity_split=None, min_samples_leaf=1,\n",
       "                      min_samples_split=2, min_weight_fraction_leaf=0.0,\n",
       "                      n_estimators=1000, n_jobs=None, oob_score=False,\n",
       "                      random_state=None, verbose=0, warm_start=False)"
      ]
     },
     "execution_count": 289,
     "metadata": {},
     "output_type": "execute_result"
    }
   ],
   "source": [
    "rf.fit(x_train,y_train)"
   ]
  },
  {
   "cell_type": "code",
   "execution_count": 290,
   "metadata": {},
   "outputs": [],
   "source": [
    "rf_pred = rf.predict(x_test)"
   ]
  },
  {
   "cell_type": "code",
   "execution_count": 291,
   "metadata": {},
   "outputs": [
    {
     "data": {
      "text/plain": [
       "0.9150294298282593"
      ]
     },
     "execution_count": 291,
     "metadata": {},
     "output_type": "execute_result"
    }
   ],
   "source": [
    "rf.score(x_train,y_train)"
   ]
  },
  {
   "cell_type": "code",
   "execution_count": 292,
   "metadata": {},
   "outputs": [
    {
     "data": {
      "text/plain": [
       "Text(0.5, 1.0, 'Residual Plot')"
      ]
     },
     "execution_count": 292,
     "metadata": {},
     "output_type": "execute_result"
    },
    {
     "data": {
      "image/png": "[encoded data removed]",
      "text/plain": [
       "<Figure size 432x288 with 1 Axes>"
      ]
     },
     "metadata": {},
     "output_type": "display_data"
    }
   ],
   "source": [
    "sns.distplot(y_test - rf_pred)\n",
    "plt.title('Residual Plot',size = 20)"
   ]
  },
  {
   "cell_type": "code",
   "execution_count": 293,
   "metadata": {},
   "outputs": [
    {
     "name": "stdout",
     "output_type": "stream",
     "text": [
      "MAE: 0.9970712031522422\n",
      "MSE: 6.559476515706917\n",
      "RMSE: 2.561147499795144\n"
     ]
    }
   ],
   "source": [
    "print('MAE:', mean_absolute_error(y_test,rf_pred))\n",
    "print('MSE:', mean_squared_error(y_test,rf_pred))\n",
    "print('RMSE:', np.sqrt(mean_squared_error(y_test,rf_pred)))"
   ]
  },
  {
   "cell_type": "markdown",
   "metadata": {},
   "source": [
    "# Comparing our results with Predicted Readmission Rate"
   ]
  },
  {
   "cell_type": "markdown",
   "metadata": {},
   "source": [
    "Choosing our comparison features"
   ]
  },
  {
   "cell_type": "code",
   "execution_count": 294,
   "metadata": {},
   "outputs": [],
   "source": [
    "X = hospital['Expected Readmission Rate']\n",
    "Y = hospital['Predicted Readmission Rate']"
   ]
  },
  {
   "cell_type": "code",
   "execution_count": 295,
   "metadata": {},
   "outputs": [],
   "source": [
    "X_reshape = X.values.reshape(-1,1)"
   ]
  },
  {
   "cell_type": "code",
   "execution_count": 296,
   "metadata": {},
   "outputs": [],
   "source": [
    "lr= LinearRegression()"
   ]
  },
  {
   "cell_type": "markdown",
   "metadata": {},
   "source": [
    "fitting our model"
   ]
  },
  {
   "cell_type": "code",
   "execution_count": 297,
   "metadata": {},
   "outputs": [
    {
     "data": {
      "text/plain": [
       "LinearRegression(copy_X=True, fit_intercept=True, n_jobs=None, normalize=False)"
      ]
     },
     "execution_count": 297,
     "metadata": {},
     "output_type": "execute_result"
    }
   ],
   "source": [
    "lr.fit(X_reshape,Y)"
   ]
  },
  {
   "cell_type": "code",
   "execution_count": 299,
   "metadata": {},
   "outputs": [
    {
     "data": {
      "text/plain": [
       "0.958026742055004"
      ]
     },
     "execution_count": 299,
     "metadata": {},
     "output_type": "execute_result"
    }
   ],
   "source": [
    "lr.score(X_reshape,Y)"
   ]
  },
  {
   "cell_type": "markdown",
   "metadata": {},
   "source": [
    "Random Forest's r^2 value of our training set"
   ]
  },
  {
   "cell_type": "code",
   "execution_count": 300,
   "metadata": {},
   "outputs": [
    {
     "data": {
      "text/plain": [
       "0.9150294298282593"
      ]
     },
     "execution_count": 300,
     "metadata": {},
     "output_type": "execute_result"
    }
   ],
   "source": [
    "rf.score(x_train,y_train)"
   ]
  },
  {
   "cell_type": "markdown",
   "metadata": {},
   "source": [
    "Linear Regression R^2 value of our training set"
   ]
  },
  {
   "cell_type": "code",
   "execution_count": 301,
   "metadata": {},
   "outputs": [
    {
     "data": {
      "text/plain": [
       "0.4925755747151835"
      ]
     },
     "execution_count": 301,
     "metadata": {},
     "output_type": "execute_result"
    }
   ],
   "source": [
    "LR.score(x_train,y_train)"
   ]
  },
  {
   "cell_type": "code",
   "execution_count": null,
   "metadata": {},
   "outputs": [],
   "source": []
  }
 ],
 "metadata": {
  "kernelspec": {
   "display_name": "Python 3",
   "language": "python",
   "name": "python3"
  },
  "language_info": {
   "codemirror_mode": {
    "name": "ipython",
    "version": 3
   },
   "file_extension": ".py",
   "mimetype": "text/x-python",
   "name": "python",
   "nbconvert_exporter": "python",
   "pygments_lexer": "ipython3",
   "version": "3.7.6"
  }
 },
 "nbformat": 4,
 "nbformat_minor": 4
}
